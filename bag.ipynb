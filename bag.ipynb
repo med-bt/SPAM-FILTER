{
 "cells": [
  {
   "cell_type": "code",
   "execution_count": 5,
   "metadata": {},
   "outputs": [],
   "source": [
    "import pandas as pd\n",
    "import numpy as np"
   ]
  },
  {
   "cell_type": "code",
   "execution_count": 2,
   "metadata": {},
   "outputs": [
    {
     "name": "stdout",
     "output_type": "stream",
     "text": [
      "<bound method NDFrame.describe of    '00971  '1000  '1997  '1999  '2000  '2001  '2003  '2005  '21846  '2312  \\\n",
      "0       1      2      3      1      8     15      1      1       1      1   \n",
      "1       1      2      3      1      8     15      1      1       1      1   \n",
      "\n",
      "   ...  zwrocic  zwwyw  zwzm  zxghlajf  zyban  zygoma  zymg  zzmacmac  \\\n",
      "0  ...        2      2     1         1      2       2     3         1   \n",
      "1  ...        2      2     1         1      2       2     3         1   \n",
      "\n",
      "   zzncacst  zzzz  \n",
      "0         2     8  \n",
      "1         2     8  \n",
      "\n",
      "[2 rows x 36825 columns]>\n"
     ]
    }
   ],
   "source": [
    "data = pd.read_csv(\"bag_of_words_matrix.csv\")\n",
    "print(data.describe)\n"
   ]
  },
  {
   "cell_type": "code",
   "execution_count": 6,
   "metadata": {},
   "outputs": [
    {
     "name": "stdout",
     "output_type": "stream",
     "text": [
      "         Word  Occurrence\n",
      "enron   13097       13097\n",
      "this     9967        9967\n",
      "that     9246        9246\n",
      "your     9147        9147\n",
      "with     8805        8805\n",
      "...       ...         ...\n",
      "into      975         975\n",
      "phone     949         949\n",
      "people    941         941\n",
      "last      939         939\n",
      "them      937         937\n",
      "\n",
      "[100 rows x 2 columns]\n"
     ]
    }
   ],
   "source": [
    "words = data.iloc[0]  # First row (words)\n",
    "occurrences = data.iloc[1]\n",
    "df = pd.DataFrame({'Word': words, 'Occurrence': occurrences})\n",
    "top_100_words = df.sort_values(by='Occurrence', ascending=False).head(100)\n",
    "print(top_100_words)\n"
   ]
  }
 ],
 "metadata": {
  "kernelspec": {
   "display_name": "Python 3",
   "language": "python",
   "name": "python3"
  },
  "language_info": {
   "codemirror_mode": {
    "name": "ipython",
    "version": 3
   },
   "file_extension": ".py",
   "mimetype": "text/x-python",
   "name": "python",
   "nbconvert_exporter": "python",
   "pygments_lexer": "ipython3",
   "version": "3.9.13"
  }
 },
 "nbformat": 4,
 "nbformat_minor": 2
}
